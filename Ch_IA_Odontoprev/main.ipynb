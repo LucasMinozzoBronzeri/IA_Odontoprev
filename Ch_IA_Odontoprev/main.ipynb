{
 "cells": [
  {
   "cell_type": "code",
   "execution_count": 95,
   "metadata": {},
   "outputs": [
    {
     "name": "stderr",
     "output_type": "stream",
     "text": [
      "\n",
      "[notice] A new release of pip is available: 24.2 -> 24.3.1\n",
      "[notice] To update, run: python.exe -m pip install --upgrade pip\n"
     ]
    }
   ],
   "source": [
    "!pip install --quiet -r requirements.txt"
   ]
  },
  {
   "cell_type": "code",
   "execution_count": 93,
   "metadata": {},
   "outputs": [],
   "source": [
    "import pandas as pd\n",
    "import matplotlib.pyplot as plt\n",
    "from sklearn.model_selection import train_test_split\n",
    "from sklearn.linear_model import LogisticRegression\n",
    "from sklearn.metrics import classification_report, accuracy_score"
   ]
  },
  {
   "cell_type": "code",
   "execution_count": 83,
   "metadata": {},
   "outputs": [],
   "source": [
    "df_fraude = pd.read_csv('dados_treinamento_fraude.csv')"
   ]
  },
  {
   "cell_type": "code",
   "execution_count": 84,
   "metadata": {},
   "outputs": [
    {
     "data": {
      "text/html": [
       "<div>\n",
       "<style scoped>\n",
       "    .dataframe tbody tr th:only-of-type {\n",
       "        vertical-align: middle;\n",
       "    }\n",
       "\n",
       "    .dataframe tbody tr th {\n",
       "        vertical-align: top;\n",
       "    }\n",
       "\n",
       "    .dataframe thead th {\n",
       "        text-align: right;\n",
       "    }\n",
       "</style>\n",
       "<table border=\"1\" class=\"dataframe\">\n",
       "  <thead>\n",
       "    <tr style=\"text-align: right;\">\n",
       "      <th></th>\n",
       "      <th>Total_Consultas</th>\n",
       "      <th>Idade</th>\n",
       "      <th>Renda_Anual</th>\n",
       "      <th>Score_Credito</th>\n",
       "      <th>Numero_Transacoes</th>\n",
       "      <th>Chances_Fraude</th>\n",
       "      <th>Renda_por_Transacao</th>\n",
       "      <th>Idade_por_Consulta</th>\n",
       "    </tr>\n",
       "  </thead>\n",
       "  <tbody>\n",
       "    <tr>\n",
       "      <th>0</th>\n",
       "      <td>14</td>\n",
       "      <td>71</td>\n",
       "      <td>72245</td>\n",
       "      <td>778.181044</td>\n",
       "      <td>262</td>\n",
       "      <td>1</td>\n",
       "      <td>274.695817</td>\n",
       "      <td>4.733333</td>\n",
       "    </tr>\n",
       "    <tr>\n",
       "      <th>1</th>\n",
       "      <td>45</td>\n",
       "      <td>19</td>\n",
       "      <td>37274</td>\n",
       "      <td>756.551684</td>\n",
       "      <td>534</td>\n",
       "      <td>1</td>\n",
       "      <td>69.671028</td>\n",
       "      <td>0.413043</td>\n",
       "    </tr>\n",
       "    <tr>\n",
       "      <th>2</th>\n",
       "      <td>29</td>\n",
       "      <td>74</td>\n",
       "      <td>110219</td>\n",
       "      <td>766.125891</td>\n",
       "      <td>461</td>\n",
       "      <td>1</td>\n",
       "      <td>238.569264</td>\n",
       "      <td>2.466667</td>\n",
       "    </tr>\n",
       "    <tr>\n",
       "      <th>3</th>\n",
       "      <td>26</td>\n",
       "      <td>61</td>\n",
       "      <td>106199</td>\n",
       "      <td>528.713357</td>\n",
       "      <td>532</td>\n",
       "      <td>0</td>\n",
       "      <td>199.247655</td>\n",
       "      <td>2.259259</td>\n",
       "    </tr>\n",
       "    <tr>\n",
       "      <th>4</th>\n",
       "      <td>25</td>\n",
       "      <td>19</td>\n",
       "      <td>64785</td>\n",
       "      <td>497.688457</td>\n",
       "      <td>994</td>\n",
       "      <td>1</td>\n",
       "      <td>65.110553</td>\n",
       "      <td>0.730769</td>\n",
       "    </tr>\n",
       "    <tr>\n",
       "      <th>...</th>\n",
       "      <td>...</td>\n",
       "      <td>...</td>\n",
       "      <td>...</td>\n",
       "      <td>...</td>\n",
       "      <td>...</td>\n",
       "      <td>...</td>\n",
       "      <td>...</td>\n",
       "      <td>...</td>\n",
       "    </tr>\n",
       "    <tr>\n",
       "      <th>70</th>\n",
       "      <td>24</td>\n",
       "      <td>68</td>\n",
       "      <td>32358</td>\n",
       "      <td>346.518067</td>\n",
       "      <td>675</td>\n",
       "      <td>0</td>\n",
       "      <td>47.866864</td>\n",
       "      <td>2.720000</td>\n",
       "    </tr>\n",
       "    <tr>\n",
       "      <th>71</th>\n",
       "      <td>45</td>\n",
       "      <td>72</td>\n",
       "      <td>119204</td>\n",
       "      <td>554.830697</td>\n",
       "      <td>455</td>\n",
       "      <td>0</td>\n",
       "      <td>261.412281</td>\n",
       "      <td>1.565217</td>\n",
       "    </tr>\n",
       "    <tr>\n",
       "      <th>72</th>\n",
       "      <td>48</td>\n",
       "      <td>30</td>\n",
       "      <td>97936</td>\n",
       "      <td>751.066940</td>\n",
       "      <td>971</td>\n",
       "      <td>0</td>\n",
       "      <td>100.757202</td>\n",
       "      <td>0.612245</td>\n",
       "    </tr>\n",
       "    <tr>\n",
       "      <th>73</th>\n",
       "      <td>14</td>\n",
       "      <td>33</td>\n",
       "      <td>90217</td>\n",
       "      <td>385.931364</td>\n",
       "      <td>664</td>\n",
       "      <td>0</td>\n",
       "      <td>135.664662</td>\n",
       "      <td>2.200000</td>\n",
       "    </tr>\n",
       "    <tr>\n",
       "      <th>74</th>\n",
       "      <td>21</td>\n",
       "      <td>54</td>\n",
       "      <td>87418</td>\n",
       "      <td>612.419850</td>\n",
       "      <td>856</td>\n",
       "      <td>1</td>\n",
       "      <td>102.004667</td>\n",
       "      <td>2.454545</td>\n",
       "    </tr>\n",
       "  </tbody>\n",
       "</table>\n",
       "<p>75 rows × 8 columns</p>\n",
       "</div>"
      ],
      "text/plain": [
       "    Total_Consultas  Idade  Renda_Anual  Score_Credito  Numero_Transacoes  \\\n",
       "0                14     71        72245     778.181044                262   \n",
       "1                45     19        37274     756.551684                534   \n",
       "2                29     74       110219     766.125891                461   \n",
       "3                26     61       106199     528.713357                532   \n",
       "4                25     19        64785     497.688457                994   \n",
       "..              ...    ...          ...            ...                ...   \n",
       "70               24     68        32358     346.518067                675   \n",
       "71               45     72       119204     554.830697                455   \n",
       "72               48     30        97936     751.066940                971   \n",
       "73               14     33        90217     385.931364                664   \n",
       "74               21     54        87418     612.419850                856   \n",
       "\n",
       "    Chances_Fraude  Renda_por_Transacao  Idade_por_Consulta  \n",
       "0                1           274.695817            4.733333  \n",
       "1                1            69.671028            0.413043  \n",
       "2                1           238.569264            2.466667  \n",
       "3                0           199.247655            2.259259  \n",
       "4                1            65.110553            0.730769  \n",
       "..             ...                  ...                 ...  \n",
       "70               0            47.866864            2.720000  \n",
       "71               0           261.412281            1.565217  \n",
       "72               0           100.757202            0.612245  \n",
       "73               0           135.664662            2.200000  \n",
       "74               1           102.004667            2.454545  \n",
       "\n",
       "[75 rows x 8 columns]"
      ]
     },
     "execution_count": 84,
     "metadata": {},
     "output_type": "execute_result"
    }
   ],
   "source": [
    "df_fraude"
   ]
  },
  {
   "cell_type": "code",
   "execution_count": 85,
   "metadata": {},
   "outputs": [
    {
     "data": {
      "text/html": [
       "<div>\n",
       "<style scoped>\n",
       "    .dataframe tbody tr th:only-of-type {\n",
       "        vertical-align: middle;\n",
       "    }\n",
       "\n",
       "    .dataframe tbody tr th {\n",
       "        vertical-align: top;\n",
       "    }\n",
       "\n",
       "    .dataframe thead th {\n",
       "        text-align: right;\n",
       "    }\n",
       "</style>\n",
       "<table border=\"1\" class=\"dataframe\">\n",
       "  <thead>\n",
       "    <tr style=\"text-align: right;\">\n",
       "      <th></th>\n",
       "      <th>Total_Consultas</th>\n",
       "      <th>Idade</th>\n",
       "      <th>Renda_Anual</th>\n",
       "      <th>Score_Credito</th>\n",
       "      <th>Numero_Transacoes</th>\n",
       "      <th>Chances_Fraude</th>\n",
       "      <th>Renda_por_Transacao</th>\n",
       "      <th>Idade_por_Consulta</th>\n",
       "    </tr>\n",
       "  </thead>\n",
       "  <tbody>\n",
       "    <tr>\n",
       "      <th>count</th>\n",
       "      <td>75.000000</td>\n",
       "      <td>75.000000</td>\n",
       "      <td>75.000000</td>\n",
       "      <td>75.000000</td>\n",
       "      <td>75.000000</td>\n",
       "      <td>75.000000</td>\n",
       "      <td>75.000000</td>\n",
       "      <td>75.000000</td>\n",
       "    </tr>\n",
       "    <tr>\n",
       "      <th>mean</th>\n",
       "      <td>25.773333</td>\n",
       "      <td>44.773333</td>\n",
       "      <td>102041.826667</td>\n",
       "      <td>571.113634</td>\n",
       "      <td>600.146667</td>\n",
       "      <td>0.546667</td>\n",
       "      <td>181.567062</td>\n",
       "      <td>2.460038</td>\n",
       "    </tr>\n",
       "    <tr>\n",
       "      <th>std</th>\n",
       "      <td>14.403991</td>\n",
       "      <td>19.384846</td>\n",
       "      <td>48374.340355</td>\n",
       "      <td>163.498946</td>\n",
       "      <td>205.500424</td>\n",
       "      <td>0.501170</td>\n",
       "      <td>92.116204</td>\n",
       "      <td>1.877116</td>\n",
       "    </tr>\n",
       "    <tr>\n",
       "      <th>min</th>\n",
       "      <td>3.000000</td>\n",
       "      <td>18.000000</td>\n",
       "      <td>23174.000000</td>\n",
       "      <td>307.734276</td>\n",
       "      <td>140.000000</td>\n",
       "      <td>0.000000</td>\n",
       "      <td>35.490814</td>\n",
       "      <td>0.372549</td>\n",
       "    </tr>\n",
       "    <tr>\n",
       "      <th>25%</th>\n",
       "      <td>13.000000</td>\n",
       "      <td>28.500000</td>\n",
       "      <td>71389.500000</td>\n",
       "      <td>414.140347</td>\n",
       "      <td>455.500000</td>\n",
       "      <td>0.000000</td>\n",
       "      <td>113.253089</td>\n",
       "      <td>0.965116</td>\n",
       "    </tr>\n",
       "    <tr>\n",
       "      <th>50%</th>\n",
       "      <td>25.000000</td>\n",
       "      <td>39.000000</td>\n",
       "      <td>105962.000000</td>\n",
       "      <td>589.025813</td>\n",
       "      <td>581.000000</td>\n",
       "      <td>1.000000</td>\n",
       "      <td>177.554717</td>\n",
       "      <td>1.875000</td>\n",
       "    </tr>\n",
       "    <tr>\n",
       "      <th>75%</th>\n",
       "      <td>38.000000</td>\n",
       "      <td>60.000000</td>\n",
       "      <td>132391.500000</td>\n",
       "      <td>705.614461</td>\n",
       "      <td>731.000000</td>\n",
       "      <td>1.000000</td>\n",
       "      <td>232.372141</td>\n",
       "      <td>3.414773</td>\n",
       "    </tr>\n",
       "    <tr>\n",
       "      <th>max</th>\n",
       "      <td>50.000000</td>\n",
       "      <td>80.000000</td>\n",
       "      <td>199943.000000</td>\n",
       "      <td>849.376298</td>\n",
       "      <td>995.000000</td>\n",
       "      <td>1.000000</td>\n",
       "      <td>510.693333</td>\n",
       "      <td>7.800000</td>\n",
       "    </tr>\n",
       "  </tbody>\n",
       "</table>\n",
       "</div>"
      ],
      "text/plain": [
       "       Total_Consultas      Idade    Renda_Anual  Score_Credito  \\\n",
       "count        75.000000  75.000000      75.000000      75.000000   \n",
       "mean         25.773333  44.773333  102041.826667     571.113634   \n",
       "std          14.403991  19.384846   48374.340355     163.498946   \n",
       "min           3.000000  18.000000   23174.000000     307.734276   \n",
       "25%          13.000000  28.500000   71389.500000     414.140347   \n",
       "50%          25.000000  39.000000  105962.000000     589.025813   \n",
       "75%          38.000000  60.000000  132391.500000     705.614461   \n",
       "max          50.000000  80.000000  199943.000000     849.376298   \n",
       "\n",
       "       Numero_Transacoes  Chances_Fraude  Renda_por_Transacao  \\\n",
       "count          75.000000       75.000000            75.000000   \n",
       "mean          600.146667        0.546667           181.567062   \n",
       "std           205.500424        0.501170            92.116204   \n",
       "min           140.000000        0.000000            35.490814   \n",
       "25%           455.500000        0.000000           113.253089   \n",
       "50%           581.000000        1.000000           177.554717   \n",
       "75%           731.000000        1.000000           232.372141   \n",
       "max           995.000000        1.000000           510.693333   \n",
       "\n",
       "       Idade_por_Consulta  \n",
       "count           75.000000  \n",
       "mean             2.460038  \n",
       "std              1.877116  \n",
       "min              0.372549  \n",
       "25%              0.965116  \n",
       "50%              1.875000  \n",
       "75%              3.414773  \n",
       "max              7.800000  "
      ]
     },
     "execution_count": 85,
     "metadata": {},
     "output_type": "execute_result"
    }
   ],
   "source": [
    "df_fraude.describe()"
   ]
  },
  {
   "cell_type": "code",
   "execution_count": 86,
   "metadata": {},
   "outputs": [
    {
     "name": "stdout",
     "output_type": "stream",
     "text": [
      "<class 'pandas.core.frame.DataFrame'>\n",
      "RangeIndex: 75 entries, 0 to 74\n",
      "Data columns (total 8 columns):\n",
      " #   Column               Non-Null Count  Dtype  \n",
      "---  ------               --------------  -----  \n",
      " 0   Total_Consultas      75 non-null     int64  \n",
      " 1   Idade                75 non-null     int64  \n",
      " 2   Renda_Anual          75 non-null     int64  \n",
      " 3   Score_Credito        75 non-null     float64\n",
      " 4   Numero_Transacoes    75 non-null     int64  \n",
      " 5   Chances_Fraude       75 non-null     int64  \n",
      " 6   Renda_por_Transacao  75 non-null     float64\n",
      " 7   Idade_por_Consulta   75 non-null     float64\n",
      "dtypes: float64(3), int64(5)\n",
      "memory usage: 4.8 KB\n"
     ]
    }
   ],
   "source": [
    "df_fraude.info()"
   ]
  },
  {
   "cell_type": "code",
   "execution_count": 87,
   "metadata": {},
   "outputs": [
    {
     "data": {
      "image/png": "[encoded data removed]",
      "text/plain": [
       "<Figure size 800x600 with 1 Axes>"
      ]
     },
     "metadata": {},
     "output_type": "display_data"
    }
   ],
   "source": [
    "plt.figure(figsize=(8, 6))\n",
    "plt.boxplot(df_fraude[\"Score_Credito\"], vert=False, patch_artist=True)\n",
    "plt.title(\"Distribuição de Score de Crédito\")\n",
    "plt.xlabel(\"Score de Crédito\")\n",
    "plt.show()\n"
   ]
  },
  {
   "cell_type": "code",
   "execution_count": 88,
   "metadata": {},
   "outputs": [
    {
     "data": {
      "image/png": "[encoded data removed]",
      "text/plain": [
       "<Figure size 800x600 with 1 Axes>"
      ]
     },
     "metadata": {},
     "output_type": "display_data"
    }
   ],
   "source": [
    "plt.figure(figsize=(8, 6))\n",
    "plt.scatter(df_fraude[\"Renda_Anual\"], df_fraude[\"Chances_Fraude\"], alpha=0.6, color=\"teal\")\n",
    "plt.title(\"Renda Anual vs Chances de Fraude\")\n",
    "plt.xlabel(\"Renda Anual\")\n",
    "plt.ylabel(\"Chances de Fraude (0 = Sem, 1 = Com)\")\n",
    "plt.show()"
   ]
  },
  {
   "cell_type": "code",
   "execution_count": 89,
   "metadata": {},
   "outputs": [
    {
     "data": {
      "image/png": "[encoded data removed]",
      "text/plain": [
       "<Figure size 800x600 with 1 Axes>"
      ]
     },
     "metadata": {},
     "output_type": "display_data"
    }
   ],
   "source": [
    "plt.figure(figsize=(8, 6))\n",
    "plt.scatter(df_fraude[\"Numero_Transacoes\"], df_fraude[\"Chances_Fraude\"], alpha=0.6, color=\"purple\")\n",
    "plt.title(\"Número de Transações vs Chances de Fraude\")\n",
    "plt.xlabel(\"Número de Transações\")\n",
    "plt.ylabel(\"Chances de Fraude (0 = Sem, 1 = Com)\")\n",
    "plt.show()"
   ]
  },
  {
   "cell_type": "code",
   "execution_count": 90,
   "metadata": {},
   "outputs": [],
   "source": [
    "X = df_fraude.drop(\"Chances_Fraude\", axis=1)\n",
    "y = df_fraude[\"Chances_Fraude\"]"
   ]
  },
  {
   "cell_type": "code",
   "execution_count": 91,
   "metadata": {},
   "outputs": [],
   "source": [
    "X_train, X_test, y_train, y_test = train_test_split(\n",
    "    X,y, random_state=42, test_size=0.20\n",
    ")"
   ]
  },
  {
   "cell_type": "code",
   "execution_count": 92,
   "metadata": {},
   "outputs": [
    {
     "name": "stdout",
     "output_type": "stream",
     "text": [
      "Acurácia: 73.33%\n",
      "Relatório de Classificação:\n",
      "               precision    recall  f1-score   support\n",
      "\n",
      "           0       0.80      0.57      0.67         7\n",
      "           1       0.70      0.88      0.78         8\n",
      "\n",
      "    accuracy                           0.73        15\n",
      "   macro avg       0.75      0.72      0.72        15\n",
      "weighted avg       0.75      0.73      0.73        15\n",
      "\n"
     ]
    },
    {
     "name": "stderr",
     "output_type": "stream",
     "text": [
      "c:\\Users\\lucas\\AppData\\Local\\Programs\\Python\\Python312\\Lib\\site-packages\\sklearn\\linear_model\\_logistic.py:469: ConvergenceWarning: lbfgs failed to converge (status=1):\n",
      "STOP: TOTAL NO. of ITERATIONS REACHED LIMIT.\n",
      "\n",
      "Increase the number of iterations (max_iter) or scale the data as shown in:\n",
      "    https://scikit-learn.org/stable/modules/preprocessing.html\n",
      "Please also refer to the documentation for alternative solver options:\n",
      "    https://scikit-learn.org/stable/modules/linear_model.html#logistic-regression\n",
      "  n_iter_i = _check_optimize_result(\n"
     ]
    }
   ],
   "source": [
    "best_model = LogisticRegression(C=1, solver='lbfgs', random_state=42)\n",
    "\n",
    "best_model.fit(X_train, y_train)\n",
    "\n",
    "y_pred = best_model.predict(X_test)\n",
    "\n",
    "accuracy = accuracy_score(y_test, y_pred)*100\n",
    "classification_rep = classification_report(y_test, y_pred)\n",
    "\n",
    "print(f'Acurácia: {accuracy:.2F}%')\n",
    "print(f'Relatório de Classificação:\\n {classification_rep}')"
   ]
  }
 ],
 "metadata": {
  "kernelspec": {
   "display_name": "Python 3",
   "language": "python",
   "name": "python3"
  },
  "language_info": {
   "codemirror_mode": {
    "name": "ipython",
    "version": 3
   },
   "file_extension": ".py",
   "mimetype": "text/x-python",
   "name": "python",
   "nbconvert_exporter": "python",
   "pygments_lexer": "ipython3",
   "version": "3.12.2"
  }
 },
 "nbformat": 4,
 "nbformat_minor": 2
}
